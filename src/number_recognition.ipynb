{
 "cells": [
  {
   "cell_type": "code",
   "execution_count": 49,
   "id": "3e2f16c9",
   "metadata": {},
   "outputs": [
    {
     "name": "stderr",
     "output_type": "stream",
     "text": [
      "C:\\Users\\user\\Anaconda4\\lib\\site-packages\\IPython\\core\\interactiveshell.py:3457: FutureWarning: Could not cast to float64, falling back to object. This behavior is deprecated. In a future version, when a dtype is passed to 'DataFrame', either all columns will be cast to that dtype, or a TypeError will be raised\n",
      "  exec(code_obj, self.user_global_ns, self.user_ns)\n",
      "C:\\Users\\user\\Anaconda4\\lib\\site-packages\\pandas\\core\\internals\\construction.py:540: VisibleDeprecationWarning: Creating an ndarray from ragged nested sequences (which is a list-or-tuple of lists-or-tuples-or ndarrays with different lengths or shapes) is deprecated. If you meant to do this, you must specify 'dtype=object' when creating the ndarray.\n",
      "  values = np.array([convert(v) for v in values])\n"
     ]
    }
   ],
   "source": [
    "# -*- coding: utf-8 -*-\n",
    "\"\"\"\n",
    "Spyder Editor\n",
    "\n",
    "This is a temporary script file.\n",
    "\"\"\"\n",
    "import pandas as pd\n",
    "import matplotlib.pyplot as plt\n",
    "from scipy.io import loadmat\n",
    "import numpy as np\n",
    "from sklearn import metrics\n",
    "from sklearn.metrics import confusion_matrix\n",
    "from sklearn.neighbors import KNeighborsClassifier\n",
    "\n",
    "#Loading da\n",
    "data=loadmat(\"F:/NumberRecognitionBigger.mat\")\n",
    "\n",
    "#converting data into dataframe\n",
    "df=pd.DataFrame(data.items(),dtype=float)\n",
    "data_3d=[]\n",
    "data_2d=[]\n",
    "predict=[]\n",
    "\n",
    "for index, item in df.iterrows():\n",
    "    if(index>2):\n",
    "         data_3d.append(np.array(df.iloc[index,1]))\n",
    "\n",
    "#converting list into dataframe      \n",
    "df=pd.DataFrame(data_3d)\n",
    "\n",
    "#reshaping 3d into 2d data\n",
    "for index , item in df.iterrows():\n",
    "    data_3d = np.array(item[0],dtype=float)\n",
    "    arr = data_3d.reshape(-1, data_3d.shape[-1])\n",
    "    data_2d.append(arr)\n"
   ]
  },
  {
   "cell_type": "code",
   "execution_count": 50,
   "id": "c41e7df9",
   "metadata": {},
   "outputs": [],
   "source": [
    "# fetching features and labels\n",
    "X=data_2d[0]\n",
    "Y=data_2d[1]"
   ]
  },
  {
   "cell_type": "code",
   "execution_count": 51,
   "id": "f47d4a84",
   "metadata": {},
   "outputs": [],
   "source": [
    "X=X.transpose()\n",
    "Y=Y.transpose()"
   ]
  },
  {
   "cell_type": "code",
   "execution_count": 52,
   "id": "ff75aa42",
   "metadata": {},
   "outputs": [],
   "source": [
    "data=np.append(X, Y, axis=1)\n",
    "data=pd.DataFrame(data)\n",
    "data=data.rename(columns={784:\"y_label\"})\n",
    "data=data.sort_values(\"y_label\")"
   ]
  },
  {
   "cell_type": "code",
   "execution_count": 53,
   "id": "44642f0a",
   "metadata": {},
   "outputs": [],
   "source": [
    "data_eight=data.loc[data['y_label'] == 8]\n",
    "data_nine=data.loc[data['y_label']==9]\n",
    "data=np.append(data_eight, data_nine, axis=0)\n"
   ]
  },
  {
   "cell_type": "code",
   "execution_count": 54,
   "id": "c0786ba1",
   "metadata": {},
   "outputs": [],
   "source": [
    "data=pd.DataFrame(data)\n",
    "\n",
    "# fetching features and labels\n",
    "X=data.iloc[:,:-1]\n",
    "Y=data.iloc[:,-1]\n",
    "X=np.array(X)\n",
    "Y=np.array(Y)"
   ]
  },
  {
   "cell_type": "code",
   "execution_count": 55,
   "id": "b53db81a",
   "metadata": {},
   "outputs": [],
   "source": [
    "from sklearn.model_selection import train_test_split\n",
    "x_train, x_test, y_train, y_test=train_test_split(X, Y, test_size=0.2)"
   ]
  },
  {
   "cell_type": "code",
   "execution_count": 56,
   "id": "9125b360",
   "metadata": {},
   "outputs": [
    {
     "data": {
      "text/plain": [
       "(array([[0., 0., 0., ..., 0., 0., 0.],\n",
       "        [0., 0., 0., ..., 0., 0., 0.],\n",
       "        [0., 0., 0., ..., 0., 0., 0.],\n",
       "        ...,\n",
       "        [0., 0., 0., ..., 0., 0., 0.],\n",
       "        [0., 0., 0., ..., 0., 0., 0.],\n",
       "        [0., 0., 0., ..., 0., 0., 0.]]),\n",
       " array([[0., 0., 0., ..., 0., 0., 0.],\n",
       "        [0., 0., 0., ..., 0., 0., 0.],\n",
       "        [0., 0., 0., ..., 0., 0., 0.],\n",
       "        ...,\n",
       "        [0., 0., 0., ..., 0., 0., 0.],\n",
       "        [0., 0., 0., ..., 0., 0., 0.],\n",
       "        [0., 0., 0., ..., 0., 0., 0.]]),\n",
       " array([9., 9., 8., ..., 8., 8., 8.]),\n",
       " array([8., 9., 9., ..., 9., 8., 9.]))"
      ]
     },
     "execution_count": 56,
     "metadata": {},
     "output_type": "execute_result"
    }
   ],
   "source": [
    "x_train, x_test, y_train, y_test"
   ]
  },
  {
   "cell_type": "code",
   "execution_count": 57,
   "id": "b56bc301",
   "metadata": {},
   "outputs": [
    {
     "name": "stdout",
     "output_type": "stream",
     "text": [
      "-----------------------KNN Classification--------------------------\n",
      "[0.010221465076660987, 0.00596252129471891, 0.009369676320272573, 0.009369676320272573, 0.01192504258943782, 0.011073253833049404, 0.012776831345826235, 0.010221465076660987, 0.012776831345826235, 0.013628620102214651, 0.016183986371379896, 0.017035775127768313, 0.020442930153321975, 0.02129471890971039, 0.022998296422487224, 0.020442930153321975, 0.022998296422487224, 0.022146507666098807, 0.022146507666098807]\n"
     ]
    }
   ],
   "source": [
    "testing_error=[]\n",
    "testing_error=[]\n",
    "accuracy=[]\n",
    "accuracy=[]\n",
    "\n",
    "\n",
    "print(\"-----------------------KNN Classification--------------------------\")\n",
    "for k in range(1, 20, 1):\n",
    "    model = KNeighborsClassifier(n_neighbors=k) \n",
    "    model.fit(x_train, y_train)\n",
    "    y_pred = model.predict(x_test)\n",
    "    testing_error.append(np.mean(y_pred!=y_test))\n",
    "    accuracy.append(metrics.accuracy_score(y_test, y_pred))\n",
    "\n",
    "print(testing_error)"
   ]
  },
  {
   "cell_type": "code",
   "execution_count": 19,
   "id": "7c1ad36a",
   "metadata": {},
   "outputs": [
    {
     "name": "stdout",
     "output_type": "stream",
     "text": [
      "[0.008517887563884156, 0.00596252129471891, 0.011073253833049404, 0.010221465076660987, 0.012776831345826235, 0.013628620102214651, 0.014480408858603067, 0.012776831345826235, 0.012776831345826235, 0.01192504258943782, 0.013628620102214651, 0.013628620102214651, 0.014480408858603067, 0.016183986371379896, 0.017035775127768313, 0.017035775127768313, 0.019591141396933562, 0.019591141396933562, 0.019591141396933562, 0.008517887563884156, 0.00596252129471891, 0.011073253833049404, 0.010221465076660987, 0.012776831345826235, 0.013628620102214651, 0.014480408858603067, 0.012776831345826235, 0.012776831345826235, 0.01192504258943782, 0.013628620102214651, 0.013628620102214651, 0.014480408858603067, 0.016183986371379896, 0.017035775127768313, 0.017035775127768313, 0.019591141396933562, 0.019591141396933562, 0.019591141396933562]\n"
     ]
    },
    {
     "data": {
      "text/plain": [
       "<function print>"
      ]
     },
     "execution_count": 19,
     "metadata": {},
     "output_type": "execute_result"
    }
   ],
   "source": [
    "for k in range(1, 20, 1):\n",
    "    model = KNeighborsClassifier(n_neighbors=k) \n",
    "    model.fit(x_train, y_train)\n",
    "    y_pred = model.predict(x_test)\n",
    "    testing_error.append(np.mean(y_pred!=y_test))\n",
    "    accuracy.append(metrics.accuracy_score(y_test, y_pred))\n",
    "    \n",
    "print(testing_error)"
   ]
  },
  {
   "cell_type": "code",
   "execution_count": 58,
   "id": "1cfd6c4c",
   "metadata": {},
   "outputs": [
    {
     "name": "stdout",
     "output_type": "stream",
     "text": [
      "[0.989778534923339, 0.9940374787052811, 0.9906303236797275, 0.9906303236797275, 0.9880749574105622, 0.9889267461669506, 0.9872231686541738, 0.989778534923339, 0.9872231686541738, 0.9863713798977853, 0.9838160136286201, 0.9829642248722317, 0.979557069846678, 0.9787052810902896, 0.9770017035775128, 0.979557069846678, 0.9770017035775128, 0.9778534923339012, 0.9778534923339012]\n"
     ]
    }
   ],
   "source": [
    "print(accuracy)"
   ]
  },
  {
   "cell_type": "code",
   "execution_count": 64,
   "id": "626611ab",
   "metadata": {},
   "outputs": [
    {
     "name": "stdout",
     "output_type": "stream",
     "text": [
      "----------plotting testing error-----------------------\n"
     ]
    },
    {
     "data": {
      "image/png": "[encoded data removed]",
      "text/plain": [
       "<Figure size 432x288 with 1 Axes>"
      ]
     },
     "metadata": {
      "needs_background": "light"
     },
     "output_type": "display_data"
    }
   ],
   "source": [
    "print(\"----------plotting testing error-----------------------\")\n",
    "#plt.figure(figsize=(10,10))\n",
    "plt.plot(range(1,20, 1), testing_error,color='red', label='Error rate', linestyle='dashed', marker='o',\n",
    "         markerfacecolor='blue', markersize=5)\n",
    "plt.xlabel('K values')\n",
    "plt.ylabel('Error rate')\n",
    "plt.title('Performace Under Varying K Values')    \n",
    "plt.legend()\n",
    "plt.show()"
   ]
  },
  {
   "cell_type": "code",
   "execution_count": 67,
   "id": "c71731bf",
   "metadata": {},
   "outputs": [
    {
     "name": "stdout",
     "output_type": "stream",
     "text": [
      "----------plotting testing accuracy-----------------------\n"
     ]
    },
    {
     "data": {
      "image/png": "[encoded data removed]",
      "text/plain": [
       "<Figure size 432x288 with 1 Axes>"
      ]
     },
     "metadata": {
      "needs_background": "light"
     },
     "output_type": "display_data"
    }
   ],
   "source": [
    "print(\"----------plotting testing accuracy-----------------------\")\n",
    "#plt.figure(figsize=(10,10))\n",
    "plt.plot(range(1,20, 1), accuracy,color='red', label='Accuracy', linestyle='dashed', marker='o',\n",
    "         markerfacecolor='blue', markersize=5)\n",
    "plt.xlabel('K values')\n",
    "plt.ylabel('Accuracy')\n",
    "plt.title('Performace Under Varying K Values')    \n",
    "plt.legend()\n",
    "plt.show()"
   ]
  }
 ],
 "metadata": {
  "kernelspec": {
   "display_name": "Python 3 (ipykernel)",
   "language": "python",
   "name": "python3"
  },
  "language_info": {
   "codemirror_mode": {
    "name": "ipython",
    "version": 3
   },
   "file_extension": ".py",
   "mimetype": "text/x-python",
   "name": "python",
   "nbconvert_exporter": "python",
   "pygments_lexer": "ipython3",
   "version": "3.7.4"
  }
 },
 "nbformat": 4,
 "nbformat_minor": 5
}
